{
 "cells": [
  {
   "cell_type": "code",
   "execution_count": 3,
   "metadata": {},
   "outputs": [],
   "source": [
    "# Dependencies and Setup\n",
    "import matplotlib.pyplot as plt\n",
    "import pandas as pd\n",
    "import numpy as np\n",
    "import requests\n",
    "import gmaps\n",
    "import os\n",
    "from pprint import pprint\n",
    "\n",
    "# Import API key\n",
    "from api_keys import g_key\n",
    "output_data_file = \"output_data/cities.csv\""
   ]
  },
  {
   "cell_type": "code",
   "execution_count": 4,
   "metadata": {},
   "outputs": [
    {
     "data": {
      "text/html": [
       "<div>\n",
       "<style scoped>\n",
       "    .dataframe tbody tr th:only-of-type {\n",
       "        vertical-align: middle;\n",
       "    }\n",
       "\n",
       "    .dataframe tbody tr th {\n",
       "        vertical-align: top;\n",
       "    }\n",
       "\n",
       "    .dataframe thead th {\n",
       "        text-align: right;\n",
       "    }\n",
       "</style>\n",
       "<table border=\"1\" class=\"dataframe\">\n",
       "  <thead>\n",
       "    <tr style=\"text-align: right;\">\n",
       "      <th></th>\n",
       "      <th>City</th>\n",
       "      <th>Cloudiness</th>\n",
       "      <th>Country</th>\n",
       "      <th>Date</th>\n",
       "      <th>Humidity</th>\n",
       "      <th>Lat</th>\n",
       "      <th>Lng</th>\n",
       "      <th>Max Temperature</th>\n",
       "      <th>Wind</th>\n",
       "    </tr>\n",
       "  </thead>\n",
       "  <tbody>\n",
       "    <tr>\n",
       "      <th>0</th>\n",
       "      <td>camana</td>\n",
       "      <td>52.0</td>\n",
       "      <td>PE</td>\n",
       "      <td>1.580174e+09</td>\n",
       "      <td>83.0</td>\n",
       "      <td>-16.62</td>\n",
       "      <td>-72.71</td>\n",
       "      <td>68.90</td>\n",
       "      <td>5.26</td>\n",
       "    </tr>\n",
       "    <tr>\n",
       "      <th>1</th>\n",
       "      <td>pevek</td>\n",
       "      <td>64.0</td>\n",
       "      <td>RU</td>\n",
       "      <td>1.580174e+09</td>\n",
       "      <td>88.0</td>\n",
       "      <td>69.70</td>\n",
       "      <td>170.31</td>\n",
       "      <td>-3.51</td>\n",
       "      <td>3.65</td>\n",
       "    </tr>\n",
       "    <tr>\n",
       "      <th>2</th>\n",
       "      <td>puerto ayora</td>\n",
       "      <td>75.0</td>\n",
       "      <td>EC</td>\n",
       "      <td>1.580174e+09</td>\n",
       "      <td>61.0</td>\n",
       "      <td>-0.74</td>\n",
       "      <td>-90.35</td>\n",
       "      <td>82.40</td>\n",
       "      <td>4.70</td>\n",
       "    </tr>\n",
       "    <tr>\n",
       "      <th>3</th>\n",
       "      <td>vaini</td>\n",
       "      <td>75.0</td>\n",
       "      <td>TO</td>\n",
       "      <td>1.580174e+09</td>\n",
       "      <td>88.0</td>\n",
       "      <td>-21.20</td>\n",
       "      <td>-175.20</td>\n",
       "      <td>80.60</td>\n",
       "      <td>4.70</td>\n",
       "    </tr>\n",
       "    <tr>\n",
       "      <th>4</th>\n",
       "      <td>honningsvag</td>\n",
       "      <td>52.0</td>\n",
       "      <td>NO</td>\n",
       "      <td>1.580174e+09</td>\n",
       "      <td>64.0</td>\n",
       "      <td>70.98</td>\n",
       "      <td>25.97</td>\n",
       "      <td>22.19</td>\n",
       "      <td>18.21</td>\n",
       "    </tr>\n",
       "  </tbody>\n",
       "</table>\n",
       "</div>"
      ],
      "text/plain": [
       "           City  Cloudiness Country          Date  Humidity    Lat     Lng  \\\n",
       "0        camana        52.0      PE  1.580174e+09      83.0 -16.62  -72.71   \n",
       "1         pevek        64.0      RU  1.580174e+09      88.0  69.70  170.31   \n",
       "2  puerto ayora        75.0      EC  1.580174e+09      61.0  -0.74  -90.35   \n",
       "3         vaini        75.0      TO  1.580174e+09      88.0 -21.20 -175.20   \n",
       "4   honningsvag        52.0      NO  1.580174e+09      64.0  70.98   25.97   \n",
       "\n",
       "   Max Temperature   Wind  \n",
       "0            68.90   5.26  \n",
       "1            -3.51   3.65  \n",
       "2            82.40   4.70  \n",
       "3            80.60   4.70  \n",
       "4            22.19  18.21  "
      ]
     },
     "execution_count": 4,
     "metadata": {},
     "output_type": "execute_result"
    }
   ],
   "source": [
    "#Load the csv exported in Part I to a DataFrame\n",
    "\n",
    "cities_df = pd.read_csv(output_data_file)\n",
    "cities_df.head()"
   ]
  },
  {
   "cell_type": "code",
   "execution_count": 5,
   "metadata": {},
   "outputs": [
    {
     "data": {
      "text/plain": [
       "City               555\n",
       "Cloudiness         555\n",
       "Country            555\n",
       "Date               555\n",
       "Humidity           555\n",
       "Lat                555\n",
       "Lng                555\n",
       "Max Temperature    555\n",
       "Wind               555\n",
       "dtype: int64"
      ]
     },
     "execution_count": 5,
     "metadata": {},
     "output_type": "execute_result"
    }
   ],
   "source": [
    "# Drop NA values from dataframe\n",
    "cities_clean = cities_df.dropna(how='any')\n",
    "\n",
    "# Confirm drop\n",
    "cities_clean.count()"
   ]
  },
  {
   "cell_type": "code",
   "execution_count": 6,
   "metadata": {},
   "outputs": [
    {
     "data": {
      "application/vnd.jupyter.widget-view+json": {
       "model_id": "97544b58a86d4d8cb6c00f6d035d8b6f",
       "version_major": 2,
       "version_minor": 0
      },
      "text/plain": [
       "Figure(layout=FigureLayout(height='420px'))"
      ]
     },
     "metadata": {},
     "output_type": "display_data"
    }
   ],
   "source": [
    "# Configure gmaps.\n",
    "# Use the Lat and Lng as locations and Humidity as the weight.\n",
    "# Add Heatmap layer to map.\n",
    "\n",
    "gmaps.configure(api_key=g_key)\n",
    "\n",
    "locations = cities_clean[[\"Lat\", \"Lng\"]].astype(float)\n",
    "humidity = cities_clean['Humidity']\n",
    "\n",
    "fig = gmaps.figure()\n",
    "\n",
    "heat_layer = gmaps.heatmap_layer(locations, weights=humidity, \n",
    "                                 dissipating=False, max_intensity=100,\n",
    "                                 point_radius = 3)\n",
    "\n",
    "fig.add_layer(heat_layer)\n",
    "\n",
    "fig"
   ]
  },
  {
   "cell_type": "code",
   "execution_count": 7,
   "metadata": {},
   "outputs": [
    {
     "data": {
      "text/html": [
       "<div>\n",
       "<style scoped>\n",
       "    .dataframe tbody tr th:only-of-type {\n",
       "        vertical-align: middle;\n",
       "    }\n",
       "\n",
       "    .dataframe tbody tr th {\n",
       "        vertical-align: top;\n",
       "    }\n",
       "\n",
       "    .dataframe thead th {\n",
       "        text-align: right;\n",
       "    }\n",
       "</style>\n",
       "<table border=\"1\" class=\"dataframe\">\n",
       "  <thead>\n",
       "    <tr style=\"text-align: right;\">\n",
       "      <th></th>\n",
       "      <th>City</th>\n",
       "      <th>Cloudiness</th>\n",
       "      <th>Country</th>\n",
       "      <th>Date</th>\n",
       "      <th>Humidity</th>\n",
       "      <th>Lat</th>\n",
       "      <th>Lng</th>\n",
       "      <th>Max Temperature</th>\n",
       "      <th>Wind</th>\n",
       "    </tr>\n",
       "  </thead>\n",
       "  <tbody>\n",
       "    <tr>\n",
       "      <th>211</th>\n",
       "      <td>ojinaga</td>\n",
       "      <td>75.0</td>\n",
       "      <td>MX</td>\n",
       "      <td>1.580174e+09</td>\n",
       "      <td>24.0</td>\n",
       "      <td>29.57</td>\n",
       "      <td>-104.42</td>\n",
       "      <td>71.60</td>\n",
       "      <td>9.17</td>\n",
       "    </tr>\n",
       "    <tr>\n",
       "      <th>546</th>\n",
       "      <td>camargo</td>\n",
       "      <td>0.0</td>\n",
       "      <td>MX</td>\n",
       "      <td>1.580174e+09</td>\n",
       "      <td>19.0</td>\n",
       "      <td>27.67</td>\n",
       "      <td>-105.17</td>\n",
       "      <td>71.26</td>\n",
       "      <td>17.81</td>\n",
       "    </tr>\n",
       "  </tbody>\n",
       "</table>\n",
       "</div>"
      ],
      "text/plain": [
       "        City  Cloudiness Country          Date  Humidity    Lat     Lng  \\\n",
       "211  ojinaga        75.0      MX  1.580174e+09      24.0  29.57 -104.42   \n",
       "546  camargo         0.0      MX  1.580174e+09      19.0  27.67 -105.17   \n",
       "\n",
       "     Max Temperature   Wind  \n",
       "211            71.60   9.17  \n",
       "546            71.26  17.81  "
      ]
     },
     "execution_count": 7,
     "metadata": {},
     "output_type": "execute_result"
    }
   ],
   "source": [
    "# Create new DataFrame fitting weather criteria\n",
    "# Country is Mexico\n",
    "# Humidity less than 50\n",
    "# Wind > 0\n",
    "\n",
    "mx_cities = cities_clean[(cities_clean.Country == 'MX')]\n",
    "mx_cities_humid = mx_cities[(mx_cities.Humidity <= 50)]\n",
    "mx_vacation_cities = mx_cities_humid[(mx_cities_humid.Wind > 0)]\n",
    "mx_vacation_cities.head()\n"
   ]
  },
  {
   "cell_type": "code",
   "execution_count": 8,
   "metadata": {},
   "outputs": [
    {
     "data": {
      "text/html": [
       "<div>\n",
       "<style scoped>\n",
       "    .dataframe tbody tr th:only-of-type {\n",
       "        vertical-align: middle;\n",
       "    }\n",
       "\n",
       "    .dataframe tbody tr th {\n",
       "        vertical-align: top;\n",
       "    }\n",
       "\n",
       "    .dataframe thead th {\n",
       "        text-align: right;\n",
       "    }\n",
       "</style>\n",
       "<table border=\"1\" class=\"dataframe\">\n",
       "  <thead>\n",
       "    <tr style=\"text-align: right;\">\n",
       "      <th></th>\n",
       "      <th>City</th>\n",
       "      <th>Cloudiness</th>\n",
       "      <th>Country</th>\n",
       "      <th>Date</th>\n",
       "      <th>Humidity</th>\n",
       "      <th>Lat</th>\n",
       "      <th>Lng</th>\n",
       "      <th>Max Temperature</th>\n",
       "      <th>Wind</th>\n",
       "      <th>Hotel Name</th>\n",
       "    </tr>\n",
       "  </thead>\n",
       "  <tbody>\n",
       "    <tr>\n",
       "      <th>211</th>\n",
       "      <td>ojinaga</td>\n",
       "      <td>75.0</td>\n",
       "      <td>MX</td>\n",
       "      <td>1.580174e+09</td>\n",
       "      <td>24.0</td>\n",
       "      <td>29.57</td>\n",
       "      <td>-104.42</td>\n",
       "      <td>71.60</td>\n",
       "      <td>9.17</td>\n",
       "      <td>Suites Las Palmas</td>\n",
       "    </tr>\n",
       "    <tr>\n",
       "      <th>546</th>\n",
       "      <td>camargo</td>\n",
       "      <td>0.0</td>\n",
       "      <td>MX</td>\n",
       "      <td>1.580174e+09</td>\n",
       "      <td>19.0</td>\n",
       "      <td>27.67</td>\n",
       "      <td>-105.17</td>\n",
       "      <td>71.26</td>\n",
       "      <td>17.81</td>\n",
       "      <td>Hotel Santa Fe</td>\n",
       "    </tr>\n",
       "  </tbody>\n",
       "</table>\n",
       "</div>"
      ],
      "text/plain": [
       "        City  Cloudiness Country          Date  Humidity    Lat     Lng  \\\n",
       "211  ojinaga        75.0      MX  1.580174e+09      24.0  29.57 -104.42   \n",
       "546  camargo         0.0      MX  1.580174e+09      19.0  27.67 -105.17   \n",
       "\n",
       "     Max Temperature   Wind         Hotel Name  \n",
       "211            71.60   9.17  Suites Las Palmas  \n",
       "546            71.26  17.81     Hotel Santa Fe  "
      ]
     },
     "execution_count": 8,
     "metadata": {},
     "output_type": "execute_result"
    }
   ],
   "source": [
    "mx_vacation_cities['Hotel Name'] = ''\n",
    "\n",
    "for index, row in mx_vacation_cities.iterrows():\n",
    "    base_url = \"https://maps.googleapis.com/maps/api/place/nearbysearch/json?\"\n",
    "\n",
    "    lat = row['Lat']\n",
    "    lng = row['Lng']\n",
    "    \n",
    "    params = {\n",
    "    \"location\": (f'{lat}, {lng}'), \n",
    "    \"type\": \"lodging\",\n",
    "    \"radius\": \"5000\",\n",
    "    \"key\": g_key}\n",
    "    \n",
    "    hotel_df = requests.get(base_url, params=params).json()\n",
    "    \n",
    "    try:\n",
    "        mx_vacation_cities.loc[index, \"Hotel Name\"] = hotel_df['results'][0]['name']\n",
    "        \n",
    "    except IndexError:\n",
    "        \n",
    "        mx_vacation_cities.loc[index, \"Hotel Name\"] = 'N/A'\n",
    "\n",
    "mx_vacation_cities.head()"
   ]
  },
  {
   "cell_type": "code",
   "execution_count": 9,
   "metadata": {},
   "outputs": [
    {
     "data": {
      "application/vnd.jupyter.widget-view+json": {
       "model_id": "97544b58a86d4d8cb6c00f6d035d8b6f",
       "version_major": 2,
       "version_minor": 0
      },
      "text/plain": [
       "Figure(layout=FigureLayout(height='420px'))"
      ]
     },
     "metadata": {},
     "output_type": "display_data"
    }
   ],
   "source": [
    "info_box_template = \"\"\"\n",
    "<dl>\n",
    "<dt>City</dt><dd>{City}</dd>\n",
    "<dt>Name</dt><dd>{Hotel Name}</dd>\n",
    "<dt>Country</dt><dd>{Country}</dd>\n",
    "</dl>\n",
    "\"\"\"\n",
    "\n",
    "hotel_info = [info_box_template.format(**row) for index, row in mx_vacation_cities.iterrows()]\n",
    "locations = mx_vacation_cities[[\"Lat\", \"Lng\"]]\n",
    "\n",
    "hotel_layer = gmaps.symbol_layer(\n",
    "                locations,\n",
    "                info_box_content=hotel_info)\n",
    "\n",
    "\n",
    "fig.add_layer(hotel_layer)\n",
    "\n",
    "fig"
   ]
  },
  {
   "cell_type": "code",
   "execution_count": null,
   "metadata": {},
   "outputs": [],
   "source": []
  }
 ],
 "metadata": {
  "kernelspec": {
   "display_name": "Python 3",
   "language": "python",
   "name": "python3"
  },
  "language_info": {
   "codemirror_mode": {
    "name": "ipython",
    "version": 3
   },
   "file_extension": ".py",
   "mimetype": "text/x-python",
   "name": "python",
   "nbconvert_exporter": "python",
   "pygments_lexer": "ipython3",
   "version": "3.8.0"
  }
 },
 "nbformat": 4,
 "nbformat_minor": 2
}
